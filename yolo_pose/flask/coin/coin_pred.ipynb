{
 "cells": [
  {
   "cell_type": "code",
   "execution_count": 36,
   "id": "initial_id",
   "metadata": {
    "collapsed": true,
    "ExecuteTime": {
     "end_time": "2024-02-15T07:59:08.831905Z",
     "start_time": "2024-02-15T07:59:08.825344Z"
    }
   },
   "outputs": [],
   "source": [
    "from sklearn.preprocessing import StandardScaler\n",
    "\n",
    "from upbit_control import upbit_control\n",
    "import tensorflow as tf\n",
    "from tensorflow import keras\n",
    "\n",
    "# from tensorflow.keras.models import Sequential\n",
    "# from tensorflow.keras.layers import LSTM, Dense\n",
    "# from tensorflow.keras.optimizers import RMSprop\n",
    "# from tensorflow.keras.models import load_model\n",
    "\n",
    "# pip install tensorflow==2.13\n",
    "\n",
    "import pandas as pd\n",
    "import numpy as np"
   ]
  },
  {
   "cell_type": "code",
   "outputs": [
    {
     "name": "stderr",
     "output_type": "stream",
     "text": [
      "WARNING:absl:At this time, the v2.11+ optimizer `tf.keras.optimizers.RMSprop` runs slowly on M1/M2 Macs, please use the legacy Keras optimizer instead, located at `tf.keras.optimizers.legacy.RMSprop`.\n",
      "WARNING:absl:There is a known slowdown when using v2.11+ Keras optimizers on M1/M2 Macs. Falling back to the legacy Keras optimizer, i.e., `tf.keras.optimizers.legacy.RMSprop`.\n"
     ]
    },
    {
     "name": "stdout",
     "output_type": "stream",
     "text": [
      "7/7 [==============================] - 0s 18ms/step\n"
     ]
    }
   ],
   "source": [
    "class coin_class:\n",
    "    def __init__(self, coin_full_name, ago):\n",
    "        self.upbit = upbit_control()\n",
    "        self.window = 200\n",
    "        self.coin_name =  coin_full_name[:coin_full_name.index('_')]\n",
    "        # 시작시 코인가져오기\n",
    "        self.model = self.get_model(coin_full_name = coin_full_name)\n",
    "        self.ago = ago\n",
    "        \n",
    "        ######### 코인이름 임시입니다.\n",
    "    def pre_processing(self):\n",
    "        # 롤링평균 과거 200개 값 필요합니다.\n",
    "        \n",
    "        # 지금시간의 코인데이터 반환 long길이만큼\n",
    "        now_coin = self.upbit.request_upbit_long_data(self.ago, self.coin_name)\n",
    "        ### 모델이 요구하는 형태로 변환\n",
    "        now_coin.drop(columns=[\"market\", \"candle_date_time_utc\",\"candle_date_time_kst\",\"unit\" ], inplace=True)\n",
    "        now_coin[\"timestamp\"] = now_coin[\"timestamp\"].round(-3)\n",
    "        # 롤링평균& 데이터 생성 \n",
    "        rol_mean = now_coin[\"trade_price\"].rolling(self.window).mean()\n",
    "        rol_half_mean = now_coin[\"trade_price\"].rolling(int(self.window/2)).mean()\n",
    "        rol_std = now_coin[\"trade_price\"].rolling(self.window).std()\n",
    "        rol_half_std = now_coin[\"trade_price\"].rolling(int(self.window/2)).std()\n",
    "        temp_rol = pd.concat([rol_mean, rol_half_mean, rol_std, rol_half_std], axis=1)\n",
    "        temp_rol.columns = [\"rol_mean\",\"rol_half_mean\",\"rol_std\",\"rol_half_std\"]\n",
    "        now_coin = pd.concat([now_coin, temp_rol], axis=1)\n",
    "        \n",
    "        # nan값 처리\n",
    "        now_coin = now_coin[self.window:]\n",
    "        now_coin.reset_index(drop=True, inplace=True)\n",
    "        \n",
    "        \n",
    "        # 데이터 스케일링\n",
    "        ss = StandardScaler()\n",
    "        now_coin = ss.fit_transform(now_coin)\n",
    "        ## LSTM이 요구하는 형태로 변환\n",
    "        now_coin_np = np.zeros((len(now_coin) - self.window +1, self.window, now_coin.shape[1]), dtype=np.float32)\n",
    "        for index in range(self.window, len(now_coin) +1):\n",
    "            now_coin_np[index - self.window] = now_coin[index - self.window : index]\n",
    "        return  now_coin_np\n",
    "        # 모델 가져오기\n",
    "    def get_model(self, coin_full_name):\n",
    "        model_path = f'./model/LSTMEND{coin_full_name}.keras'\n",
    "        model = tf.keras.models.load_model(model_path, compile=False)\n",
    "        RMSprop = keras.optimizers.RMSprop(learning_rate=0.01)\n",
    "        model.compile(optimizer= RMSprop, loss='mae', metrics=[\"mse\"])\n",
    "        return model\n",
    "    \n",
    "    def predict_coin(self, now_coin_np  ):\n",
    "        y_pred = self.model.predict(now_coin_np)\n",
    "        return y_pred\n",
    "\n",
    "if __name__ == \"__main__\":\n",
    "    coin_class = coin_class( coin_full_name= \"KRW-ETH_이더리움\", ago = 600)\n",
    "    now_coin_np = coin_class.pre_processing()\n",
    "    ypred = coin_class.predict_coin(now_coin_np)\n",
    "    ypred\n",
    "\n",
    "\n"
   ],
   "metadata": {
    "collapsed": false,
    "ExecuteTime": {
     "end_time": "2024-02-15T07:59:42.969361Z",
     "start_time": "2024-02-15T07:59:42.055760Z"
    }
   },
   "id": "86f202fa122b5e61",
   "execution_count": 39
  },
  {
   "cell_type": "markdown",
   "source": [
    "[[2119243.5]] [[2094637.]]"
   ],
   "metadata": {
    "collapsed": false
   },
   "id": "24f3b8060a262fd9"
  },
  {
   "cell_type": "code",
   "outputs": [
    {
     "data": {
      "text/plain": "[<matplotlib.lines.Line2D at 0x28ba94430>]"
     },
     "execution_count": 41,
     "metadata": {},
     "output_type": "execute_result"
    },
    {
     "data": {
      "text/plain": "<Figure size 640x480 with 1 Axes>",
      "image/png": "[encoded data removed]"
     },
     "metadata": {},
     "output_type": "display_data"
    }
   ],
   "source": [
    "import matplotlib.pyplot as plt\n",
    "\n",
    "plt.plot(ypred)\n"
   ],
   "metadata": {
    "collapsed": false,
    "ExecuteTime": {
     "end_time": "2024-02-15T09:56:40.300748Z",
     "start_time": "2024-02-15T09:56:40.211936Z"
    }
   },
   "id": "95dae4f9b35b1690",
   "execution_count": 41
  },
  {
   "cell_type": "code",
   "outputs": [],
   "source": [],
   "metadata": {
    "collapsed": false
   },
   "id": "8c0cf0b209b3ac56"
  },
  {
   "cell_type": "code",
   "outputs": [],
   "source": [],
   "metadata": {
    "collapsed": false
   },
   "id": "1d61178048f3dd5c"
  },
  {
   "cell_type": "code",
   "outputs": [],
   "source": [],
   "metadata": {
    "collapsed": false
   },
   "id": "3d8133ba7bf053b"
  }
 ],
 "metadata": {
  "kernelspec": {
   "name": "miracle_coin",
   "language": "python",
   "display_name": "miracle_coin_kernel"
  },
  "language_info": {
   "codemirror_mode": {
    "name": "ipython",
    "version": 2
   },
   "file_extension": ".py",
   "mimetype": "text/x-python",
   "name": "python",
   "nbconvert_exporter": "python",
   "pygments_lexer": "ipython2",
   "version": "2.7.6"
  }
 },
 "nbformat": 4,
 "nbformat_minor": 5
}
