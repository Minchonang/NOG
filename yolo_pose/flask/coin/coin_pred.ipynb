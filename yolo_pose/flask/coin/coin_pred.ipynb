{
 "cells": [
  {
   "cell_type": "code",
   "execution_count": 1,
   "id": "initial_id",
   "metadata": {
    "collapsed": true,
    "ExecuteTime": {
     "end_time": "2024-02-15T04:50:23.934761500Z",
     "start_time": "2024-02-15T04:50:17.422245300Z"
    }
   },
   "outputs": [
    {
     "name": "stdout",
     "output_type": "stream",
     "text": [
      "WARNING:tensorflow:From C:\\Users\\user\\anaconda3\\envs\\miracle_coin\\lib\\site-packages\\keras\\src\\losses.py:2976: The name tf.losses.sparse_softmax_cross_entropy is deprecated. Please use tf.compat.v1.losses.sparse_softmax_cross_entropy instead.\n"
     ]
    }
   ],
   "source": [
    "from sklearn.preprocessing import StandardScaler\n",
    "\n",
    "from upbit_control import upbit_control\n",
    "import tensorflow as tf\n",
    "from tensorflow import keras\n",
    "\n",
    "\n",
    "# from tensorflow.keras.models import Sequential\n",
    "# from tensorflow.keras.layers import LSTM, Dense\n",
    "# from tensorflow.keras.optimizers import RMSprop\n",
    "# from tensorflow.keras.models import load_model\n",
    "\n",
    "# pip install tensorflow==2.13\n",
    "\n",
    "\n",
    "\n",
    "\n",
    "import pandas as pd\n",
    "import numpy as np"
   ]
  },
  {
   "cell_type": "code",
   "outputs": [],
   "source": [
    "upbit = upbit_control()"
   ],
   "metadata": {
    "collapsed": false,
    "ExecuteTime": {
     "end_time": "2024-02-15T04:49:42.152589600Z",
     "start_time": "2024-02-15T04:49:42.136983700Z"
    }
   },
   "id": "61f41ece806a775f",
   "execution_count": 11
  },
  {
   "cell_type": "code",
   "outputs": [
    {
     "ename": "AttributeError",
     "evalue": "module 'tensorflow' has no attribute 'keras'",
     "output_type": "error",
     "traceback": [
      "\u001B[1;31m---------------------------------------------------------------------------\u001B[0m",
      "\u001B[1;31mAttributeError\u001B[0m                            Traceback (most recent call last)",
      "Cell \u001B[1;32mIn[9], line 57\u001B[0m\n\u001B[0;32m     55\u001B[0m \u001B[38;5;28;01mif\u001B[39;00m \u001B[38;5;18m__name__\u001B[39m \u001B[38;5;241m==\u001B[39m \u001B[38;5;124m\"\u001B[39m\u001B[38;5;124m__main__\u001B[39m\u001B[38;5;124m\"\u001B[39m:\n\u001B[0;32m     56\u001B[0m     pred \u001B[38;5;241m=\u001B[39m coin_pred()\n\u001B[1;32m---> 57\u001B[0m     now_coin_np, model \u001B[38;5;241m=\u001B[39m \u001B[43mpred\u001B[49m\u001B[38;5;241;43m.\u001B[39;49m\u001B[43mpre_processing\u001B[49m\u001B[43m(\u001B[49m\u001B[43m)\u001B[49m\n\u001B[0;32m     58\u001B[0m     now_coin_np, model\n",
      "Cell \u001B[1;32mIn[9], line 37\u001B[0m, in \u001B[0;36mcoin_pred.pre_processing\u001B[1;34m(self, coin_name)\u001B[0m\n\u001B[0;32m     35\u001B[0m coin_full_name \u001B[38;5;241m=\u001B[39m \u001B[38;5;124m\"\u001B[39m\u001B[38;5;124mKRW-NEO_네오\u001B[39m\u001B[38;5;124m\"\u001B[39m\n\u001B[0;32m     36\u001B[0m \u001B[38;5;66;03m# 모델 가져오기\u001B[39;00m\n\u001B[1;32m---> 37\u001B[0m model \u001B[38;5;241m=\u001B[39m \u001B[43mtf\u001B[49m\u001B[38;5;241;43m.\u001B[39;49m\u001B[43mkeras\u001B[49m\u001B[38;5;241m.\u001B[39mSequential()\n\u001B[0;32m     39\u001B[0m model\u001B[38;5;241m.\u001B[39madd(tf\u001B[38;5;241m.\u001B[39mkeras\u001B[38;5;241m.\u001B[39mlayers\u001B[38;5;241m.\u001B[39mLSTM(\u001B[38;5;241m64\u001B[39m, activation\u001B[38;5;241m=\u001B[39m\u001B[38;5;124m'\u001B[39m\u001B[38;5;124mtanh\u001B[39m\u001B[38;5;124m'\u001B[39m, input_shape \u001B[38;5;241m=\u001B[39m (now_coin_np\u001B[38;5;241m.\u001B[39mshape[\u001B[38;5;241m1\u001B[39m],now_coin_np\u001B[38;5;241m.\u001B[39mshape[\u001B[38;5;241m2\u001B[39m]) , return_sequences\u001B[38;5;241m=\u001B[39m\u001B[38;5;28;01mTrue\u001B[39;00m ))\n\u001B[0;32m     40\u001B[0m model\u001B[38;5;241m.\u001B[39madd(tf\u001B[38;5;241m.\u001B[39mkeras\u001B[38;5;241m.\u001B[39mlayers\u001B[38;5;241m.\u001B[39mLSTM(\u001B[38;5;241m64\u001B[39m, activation\u001B[38;5;241m=\u001B[39m\u001B[38;5;124m'\u001B[39m\u001B[38;5;124mtanh\u001B[39m\u001B[38;5;124m'\u001B[39m  ,return_sequences \u001B[38;5;241m=\u001B[39m \u001B[38;5;28;01mFalse\u001B[39;00m))\n",
      "\u001B[1;31mAttributeError\u001B[0m: module 'tensorflow' has no attribute 'keras'"
     ]
    }
   ],
   "source": [
    "\n",
    "class coin_pred:\n",
    "    def __init__(self):\n",
    "\n",
    "        self.upbit = upbit_control()\n",
    "        self.window = 200\n",
    "        ######### 코인이름 임시입니다.\n",
    "    def pre_processing(self, coin_name=\"KRW-BTC\"):\n",
    "        # 롤링평균 과거 200개 값 필요합니다.\n",
    "        \n",
    "        # 지금시간의 코인데이터 반환\n",
    "        now_coin = upbit.request_upbit_now_400_data(coin_name=coin_name)\n",
    "        ### 모델이 요구하는 형태로 변환\n",
    "        now_coin.drop(columns=[\"market\", \"candle_date_time_utc\",\"candle_date_time_kst\",\"unit\" ], inplace=True)\n",
    "        now_coin[\"timestamp\"] = now_coin[\"timestamp\"].round(-3)\n",
    "        # 롤링평균& 데이터 생성 \n",
    "        rol_mean = now_coin[\"trade_price\"].rolling(self.window).mean()\n",
    "        rol_half_mean = now_coin[\"trade_price\"].rolling(int(self.window/2)).mean()\n",
    "        rol_std = now_coin[\"trade_price\"].rolling(self.window).std()\n",
    "        rol_half_std = now_coin[\"trade_price\"].rolling(int(self.window/2)).std()\n",
    "        temp_rol = pd.concat([rol_mean, rol_half_mean, rol_std, rol_half_std], axis=1)\n",
    "        temp_rol.columns = [\"rol_mean\",\"rol_half_mean\",\"rol_std\",\"rol_half_std\"]\n",
    "        now_coin = pd.concat([now_coin, temp_rol], axis=1)\n",
    "        # 윈도우 크기만큼 절단\n",
    "        now_coin = now_coin[self.window:]\n",
    "        now_coin.reset_index(drop=True, inplace=True)\n",
    "        # 데이터 스케일링\n",
    "        ss = StandardScaler()\n",
    "        now_coin = ss.fit_transform(now_coin)\n",
    "        ## LSTM이 요구하는 형태로 변환\n",
    "        now_coin_np = np.zeros((len(now_coin) - self.window +1, now_coin.shape[0], now_coin.shape[1]), dtype=np.float32)\n",
    "        for index in range(self.window, len(now_coin) +1):\n",
    "            now_coin_np[index - self.window] = now_coin[index - self.window : index]\n",
    "        \n",
    "        # model_make\n",
    "        coin_full_name = \"KRW-NEO_네오\"\n",
    "        # 모델 가져오기\n",
    "        model = keras.Sequential()\n",
    "\n",
    "        model.add(keras.layers.LSTM(64, activation='tanh', input_shape = (now_coin_np.shape[1],now_coin_np.shape[2]) , return_sequences=True ))\n",
    "        model.add(keras.layers.LSTM(64, activation='tanh'  ,return_sequences = False))\n",
    "        model.add(keras.layers.Dense(32, activation=\"relu\"))\n",
    "        model.add(keras.layers.Dense(1, activation=\"linear\"))\n",
    "        \n",
    "        RMSprop = keras.optimizers.RMSprop(learning_rate=0.01)\n",
    "        model.compile(optimizer= RMSprop, loss='mae', metrics=[\"mse\"])\n",
    "\n",
    "        # model = load_model(f'./model/LSTMEND{coin_name}.keras')\n",
    "        model.load_weights(f\"./model/LSTM_{coin_full_name}.keras\")\n",
    "            \n",
    "        return  now_coin_np, model\n",
    "    def predict(self,   coin_name = None):\n",
    "        pass# 모델 가져오기\n",
    "        \n",
    "        \n",
    "if __name__ == \"__main__\":\n",
    "    pred = coin_pred()\n",
    "    now_coin_np, model = pred.pre_processing()\n",
    "    now_coin_np, model\n",
    "    \n",
    "\n",
    "\n"
   ],
   "metadata": {
    "collapsed": false,
    "ExecuteTime": {
     "end_time": "2024-02-15T04:45:59.810915300Z",
     "start_time": "2024-02-15T04:45:58.725130700Z"
    }
   },
   "id": "86f202fa122b5e61",
   "execution_count": 9
  },
  {
   "cell_type": "code",
   "outputs": [
    {
     "name": "stdout",
     "output_type": "stream",
     "text": [
      "Model: \"sequential_16\"\n",
      "_________________________________________________________________\n",
      " Layer (type)                Output Shape              Param #   \n",
      "=================================================================\n",
      " lstm_22 (LSTM)              (None, 200, 64)           19456     \n",
      "                                                                 \n",
      " lstm_23 (LSTM)              (None, 64)                33024     \n",
      "                                                                 \n",
      " dense_26 (Dense)            (None, 32)                2080      \n",
      "                                                                 \n",
      " dense_27 (Dense)            (None, 1)                 33        \n",
      "                                                                 \n",
      "=================================================================\n",
      "Total params: 54593 (213.25 KB)\n",
      "Trainable params: 54593 (213.25 KB)\n",
      "Non-trainable params: 0 (0.00 Byte)\n",
      "_________________________________________________________________\n"
     ]
    }
   ],
   "source": [
    "model.summary()\n"
   ],
   "metadata": {
    "collapsed": false,
    "ExecuteTime": {
     "end_time": "2024-02-15T03:56:08.787286800Z",
     "start_time": "2024-02-15T03:56:08.756978500Z"
    }
   },
   "id": "95dae4f9b35b1690",
   "execution_count": 39
  },
  {
   "cell_type": "code",
   "outputs": [],
   "source": [],
   "metadata": {
    "collapsed": false
   },
   "id": "8c0cf0b209b3ac56"
  },
  {
   "cell_type": "code",
   "outputs": [],
   "source": [],
   "metadata": {
    "collapsed": false
   },
   "id": "1d61178048f3dd5c"
  },
  {
   "cell_type": "code",
   "outputs": [],
   "source": [],
   "metadata": {
    "collapsed": false
   },
   "id": "3d8133ba7bf053b"
  }
 ],
 "metadata": {
  "kernelspec": {
   "name": "miracle_coin",
   "language": "python",
   "display_name": "miracle_coin_kernel"
  },
  "language_info": {
   "codemirror_mode": {
    "name": "ipython",
    "version": 2
   },
   "file_extension": ".py",
   "mimetype": "text/x-python",
   "name": "python",
   "nbconvert_exporter": "python",
   "pygments_lexer": "ipython2",
   "version": "2.7.6"
  }
 },
 "nbformat": 4,
 "nbformat_minor": 5
}
